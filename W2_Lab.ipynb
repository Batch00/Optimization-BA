{
 "cells": [
  {
   "cell_type": "code",
   "execution_count": 3,
   "metadata": {},
   "outputs": [],
   "source": [
    "import math\n",
    "# Input Parameters\n",
    "CostPerUnit = 25\n",
    "SalesPricePerUnit = 40\n",
    "SeasonalityFactor = [.90,1.10,.80,1.20]\n",
    "SalesforceCost = [8000,8000,9000,9000]\n",
    "OverheadRate = .15\n",
    "# Ad Effectiveness Formula Values\n",
    "k = 35\n",
    "b = 3000\n",
    "AdSpending = [10000,10000,10000,10000]\n",
    "\n",
    "quarters = 4"
   ]
  },
  {
   "cell_type": "code",
   "execution_count": 19,
   "metadata": {},
   "outputs": [
    {
     "name": "stdout",
     "output_type": "stream",
     "text": [
      "Annual Gross Profit =  239436.83927081892\n"
     ]
    }
   ],
   "source": [
    "# Gross Profit Calculations\n",
    "\n",
    "SalesQuantity = [k*SeasonalityFactor[q]*math.sqrt(b+AdSpending[q]) for q in range(quarters)]\n",
    "COGS = [SalesQuantity[q] * CostPerUnit for q in range(quarters)]\n",
    "SalesRevenue = [SalesQuantity[q] * SalesPricePerUnit for q in range(quarters)]\n",
    "GrossProfit = [SalesRevenue[q] - COGS[q] for q in range(quarters)]\n",
    "AnnualGrossProfit = sum(GrossProfit)\n",
    "print(\"Annual Gross Profit = \", AnnualGrossProfit)"
   ]
  },
  {
   "cell_type": "code",
   "execution_count": 24,
   "metadata": {},
   "outputs": [
    {
     "name": "stdout",
     "output_type": "stream",
     "text": [
      "Annual Operating Expenses =  169774.73570832756\n"
     ]
    }
   ],
   "source": [
    "# Operating Expenses Calculations\n",
    "\n",
    "Overhead = [OverheadRate*SalesRevenue[q] for q in range(quarters)]\n",
    "OperatingExpenses = [sum([Overhead[q],SalesforceCost[q],AdSpending[q]])for q in range(quarters)]\n",
    "AnnualOperatingExpenses = sum(OperatingExpenses)\n",
    "print(\"Annual Operating Expenses = \", AnnualOperatingExpenses)"
   ]
  },
  {
   "cell_type": "code",
   "execution_count": 26,
   "metadata": {},
   "outputs": [
    {
     "name": "stdout",
     "output_type": "stream",
     "text": [
      "Annual Operating Profit =  69662.10356249136\n"
     ]
    }
   ],
   "source": [
    "AnnualOperatingProfit = AnnualGrossProfit - AnnualOperatingExpenses\n",
    "print(\"Annual Operating Profit = \", AnnualOperatingProfit)"
   ]
  },
  {
   "cell_type": "markdown",
   "metadata": {},
   "source": [
    "## W2 Lab D"
   ]
  },
  {
   "cell_type": "code",
   "execution_count": 1,
   "metadata": {},
   "outputs": [
    {
     "name": "stdout",
     "output_type": "stream",
     "text": [
      "Projected Profit: $-1590.00\n"
     ]
    }
   ],
   "source": [
    "def calculate_profit(fixed_costs, variable_cost, sales_price, units_sold):\n",
    "    total_revenue = sales_price * units_sold\n",
    "    total_variable_costs = variable_cost * units_sold\n",
    "    total_costs = fixed_costs + total_variable_costs\n",
    "    profit = total_revenue - total_costs\n",
    "    return profit\n",
    "\n",
    "# Input parameters\n",
    "fixed_costs = 3000  # per month\n",
    "variable_cost = 15  # per unit\n",
    "sales_price = 45    # per unit\n",
    "units_sold = 47     # assumed number of units sold\n",
    "\n",
    "# Calculate profit\n",
    "projected_profit = calculate_profit(fixed_costs, variable_cost, sales_price, units_sold)\n",
    "\n",
    "# Print the result\n",
    "print(f\"Projected Profit: ${projected_profit:.2f}\")"
   ]
  },
  {
   "cell_type": "code",
   "execution_count": 2,
   "metadata": {},
   "outputs": [
    {
     "name": "stdout",
     "output_type": "stream",
     "text": [
      "Quarter 1:\n",
      "  Unit Sales: 3591.55\n",
      "  Revenue: $143662.10\n",
      "  Profit: $14323.97\n",
      "\n",
      "Quarter 2:\n",
      "  Unit Sales: 4389.68\n",
      "  Revenue: $175587.02\n",
      "  Profit: $21507.08\n",
      "\n",
      "Quarter 3:\n",
      "  Unit Sales: 3192.49\n",
      "  Revenue: $127699.65\n",
      "  Profit: $9732.42\n",
      "\n",
      "Quarter 4:\n",
      "  Unit Sales: 4788.74\n",
      "  Revenue: $191549.47\n",
      "  Profit: $24098.63\n",
      "\n",
      "Annual Results:\n",
      "  Total Unit Sales: 15962.46\n",
      "  Total Revenue: $638498.24\n",
      "  Operating Profit: $69662.10\n"
     ]
    }
   ],
   "source": [
    "import math\n",
    "\n",
    "def calculate_quarterly_profit(cost_per_unit, sales_price, seasonal_factor, sales_force_cost, overhead_rate, advertising_spend):\n",
    "    # Calculate unit sales\n",
    "    unit_sales = 35 * seasonal_factor * math.sqrt(3000 + advertising_spend)\n",
    "    \n",
    "    # Calculate revenue\n",
    "    revenue = unit_sales * sales_price\n",
    "    \n",
    "    # Calculate costs\n",
    "    cogs = unit_sales * cost_per_unit\n",
    "    overhead = revenue * overhead_rate\n",
    "    total_costs = cogs + sales_force_cost + overhead + advertising_spend\n",
    "    \n",
    "    # Calculate profit\n",
    "    profit = revenue - total_costs\n",
    "    \n",
    "    return unit_sales, revenue, profit\n",
    "\n",
    "# Input parameters\n",
    "cost_per_unit = 25\n",
    "sales_price = 40\n",
    "seasonal_factors = [0.90, 1.10, 0.80, 1.20]\n",
    "sales_force_costs = [8000, 8000, 9000, 9000]\n",
    "overhead_rate = 0.15\n",
    "advertising_spend = 10000\n",
    "\n",
    "# Initialize variables for annual totals\n",
    "annual_unit_sales = 0\n",
    "annual_revenue = 0\n",
    "annual_profit = 0\n",
    "\n",
    "# Calculate profit for each quarter\n",
    "for quarter, (seasonal_factor, sales_force_cost) in enumerate(zip(seasonal_factors, sales_force_costs), 1):\n",
    "    unit_sales, revenue, profit = calculate_quarterly_profit(\n",
    "        cost_per_unit, sales_price, seasonal_factor, sales_force_cost, overhead_rate, advertising_spend\n",
    "    )\n",
    "    \n",
    "    annual_unit_sales += unit_sales\n",
    "    annual_revenue += revenue\n",
    "    annual_profit += profit\n",
    "    \n",
    "    print(f\"Quarter {quarter}:\")\n",
    "    print(f\"  Unit Sales: {unit_sales:.2f}\")\n",
    "    print(f\"  Revenue: ${revenue:.2f}\")\n",
    "    print(f\"  Profit: ${profit:.2f}\")\n",
    "    print()\n",
    "\n",
    "# Print annual results\n",
    "print(\"Annual Results:\")\n",
    "print(f\"  Total Unit Sales: {annual_unit_sales:.2f}\")\n",
    "print(f\"  Total Revenue: ${annual_revenue:.2f}\")\n",
    "print(f\"  Operating Profit: ${annual_profit:.2f}\")"
   ]
  }
 ],
 "metadata": {
  "kernelspec": {
   "display_name": "base",
   "language": "python",
   "name": "python3"
  },
  "language_info": {
   "codemirror_mode": {
    "name": "ipython",
    "version": 3
   },
   "file_extension": ".py",
   "mimetype": "text/x-python",
   "name": "python",
   "nbconvert_exporter": "python",
   "pygments_lexer": "ipython3",
   "version": "3.8.8"
  }
 },
 "nbformat": 4,
 "nbformat_minor": 2
}
