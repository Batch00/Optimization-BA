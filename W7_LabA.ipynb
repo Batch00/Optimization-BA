{
  "nbformat": 4,
  "nbformat_minor": 0,
  "metadata": {
    "colab": {
      "provenance": [],
      "collapsed_sections": [
        "hL77L3Uei59o"
      ]
    },
    "kernelspec": {
      "name": "python3",
      "display_name": "Python 3"
    },
    "language_info": {
      "name": "python"
    }
  },
  "cells": [
    {
      "cell_type": "markdown",
      "source": [
        "#Set-Up"
      ],
      "metadata": {
        "id": "hL77L3Uei59o"
      }
    },
    {
      "cell_type": "code",
      "source": [
        "#Copy-and-paste the code below to use as \"set-up\" when your optimization model uses Pyomo and Coin-OR solvers.\n",
        "#for reference, see https://jckantor.github.io/ND-Pyomo-Cookbook/notebooks/01.02-Running-Pyomo-on-Google-Colab.html#installing-pyomo-and-solvers\n",
        "\n",
        "%%capture\n",
        "import sys\n",
        "import os\n",
        "\n",
        "if 'google.colab' in sys.modules:\n",
        "    !pip install idaes-pse --pre\n",
        "    !idaes get-extensions --to ./bin\n",
        "    os.environ['PATH'] += ':bin'\n",
        "\n",
        "from pyomo.environ import *"
      ],
      "metadata": {
        "id": "LEAjzJMXkLk1"
      },
      "execution_count": null,
      "outputs": []
    },
    {
      "cell_type": "markdown",
      "source": [
        "#Scheduling Problem"
      ],
      "metadata": {
        "id": "sSZzr1WtkMfN"
      }
    },
    {
      "cell_type": "code",
      "source": [
        "#inputs\n",
        "num_workers = 8 #indexed with i\n",
        "num_days = 7 #indexed with j\n",
        "num_shifts = 3 #indexed with k\n",
        "\n",
        "min_workers_per_shift = 2\n",
        "max_shifts_per_day = 1\n",
        "min_shifts_per_worker = 5\n",
        "max_night_shifts = 2"
      ],
      "metadata": {
        "id": "LOUSE0Xnpy-D"
      },
      "execution_count": null,
      "outputs": []
    },
    {
      "cell_type": "code",
      "source": [
        "# Define the model\n",
        "model = ConcreteModel()\n",
        "\n",
        "# Sets\n",
        "model.workers = RangeSet(1, 8)  # Workers (i)\n",
        "model.days = RangeSet(1, 7)     # Days (j)\n",
        "model.shifts = RangeSet(1, 3)   # Shifts (k)\n",
        "\n",
        "# Parameters\n",
        "min_workers_per_shift = 2\n",
        "max_shifts_per_day = 1\n",
        "min_shifts_per_worker = 5\n",
        "max_night_shifts = 2  # Assume night shift is shift 3\n",
        "\n",
        "# Decision Variables\n",
        "model.assign = Var(model.workers, model.days, model.shifts, domain=Binary)  # Binary: assigned (1) or not (0)\n",
        "\n",
        "# Objective: Minimize the total number of shifts assigned\n",
        "model.obj = Objective(expr=sum(model.assign[i, j, k] for i in model.workers for j in model.days for k in model.shifts), sense=minimize)\n",
        "\n",
        "# Constraints\n",
        "# 1. Each shift on each day must have at least `min_workers_per_shift` workers\n",
        "def min_workers_per_shift_rule(model, j, k):\n",
        "    return sum(model.assign[i, j, k] for i in model.workers) >= min_workers_per_shift\n",
        "model.min_workers_per_shift = Constraint(model.days, model.shifts, rule=min_workers_per_shift_rule)\n",
        "\n",
        "# 2. Each worker can work at most `max_shifts_per_day` shifts per day\n",
        "def max_shifts_per_day_rule(model, i, j):\n",
        "    return sum(model.assign[i, j, k] for k in model.shifts) <= max_shifts_per_day\n",
        "model.max_shifts_per_day = Constraint(model.workers, model.days, rule=max_shifts_per_day_rule)\n",
        "\n",
        "# 3. Each worker must work at least `min_shifts_per_worker` shifts in total\n",
        "def min_shifts_per_worker_rule(model, i):\n",
        "    return sum(model.assign[i, j, k] for j in model.days for k in model.shifts) >= min_shifts_per_worker\n",
        "model.min_shifts_per_worker = Constraint(model.workers, rule=min_shifts_per_worker_rule)\n",
        "\n",
        "# 4. Each worker can work at most `max_night_shifts` (shift 3)\n",
        "def max_night_shifts_rule(model, i):\n",
        "    return sum(model.assign[i, j, 3] for j in model.days) <= max_night_shifts\n",
        "model.max_night_shifts = Constraint(model.workers, rule=max_night_shifts_rule)\n",
        "\n",
        "# Solve the model\n",
        "solver = SolverFactory('cbc')  # You can use 'glpk' or any other available solver\n",
        "solver.solve(model)\n",
        "\n",
        "#printing out solution (with pandas)\n",
        "print(\"total number of shifts assigned:\", model.obj())\n",
        "\n",
        "# Display the results\n",
        "print(\"Optimal Shift Assignment:\")\n",
        "for i in model.workers:\n",
        "    for j in model.days:\n",
        "        for k in model.shifts:\n",
        "            if model.assign[i, j, k]() == 1:\n",
        "                print(f\"Worker {i} is assigned to day {j}, shift {k}\")\n"
      ],
      "metadata": {
        "id": "dXTpelyNv8Eb",
        "outputId": "e41df911-6c90-4f3f-c997-22a3eb988782",
        "colab": {
          "base_uri": "https://localhost:8080/"
        }
      },
      "execution_count": null,
      "outputs": [
        {
          "output_type": "stream",
          "name": "stdout",
          "text": [
            "total number of shifts assigned: 42.0\n",
            "Optimal Shift Assignment:\n",
            "Worker 1 is assigned to day 1, shift 2\n",
            "Worker 1 is assigned to day 2, shift 1\n",
            "Worker 1 is assigned to day 3, shift 1\n",
            "Worker 1 is assigned to day 5, shift 3\n",
            "Worker 1 is assigned to day 6, shift 2\n",
            "Worker 1 is assigned to day 7, shift 3\n",
            "Worker 2 is assigned to day 1, shift 3\n",
            "Worker 2 is assigned to day 4, shift 1\n",
            "Worker 2 is assigned to day 5, shift 2\n",
            "Worker 2 is assigned to day 6, shift 3\n",
            "Worker 2 is assigned to day 7, shift 1\n",
            "Worker 3 is assigned to day 1, shift 1\n",
            "Worker 3 is assigned to day 2, shift 2\n",
            "Worker 3 is assigned to day 3, shift 3\n",
            "Worker 3 is assigned to day 4, shift 1\n",
            "Worker 3 is assigned to day 5, shift 1\n",
            "Worker 4 is assigned to day 1, shift 3\n",
            "Worker 4 is assigned to day 3, shift 2\n",
            "Worker 4 is assigned to day 5, shift 1\n",
            "Worker 4 is assigned to day 6, shift 3\n",
            "Worker 4 is assigned to day 7, shift 1\n",
            "Worker 5 is assigned to day 1, shift 1\n",
            "Worker 5 is assigned to day 2, shift 1\n",
            "Worker 5 is assigned to day 3, shift 3\n",
            "Worker 5 is assigned to day 4, shift 2\n",
            "Worker 5 is assigned to day 5, shift 2\n",
            "Worker 5 is assigned to day 6, shift 1\n",
            "Worker 6 is assigned to day 2, shift 3\n",
            "Worker 6 is assigned to day 3, shift 1\n",
            "Worker 6 is assigned to day 4, shift 3\n",
            "Worker 6 is assigned to day 6, shift 1\n",
            "Worker 6 is assigned to day 7, shift 2\n",
            "Worker 7 is assigned to day 2, shift 3\n",
            "Worker 7 is assigned to day 3, shift 2\n",
            "Worker 7 is assigned to day 4, shift 3\n",
            "Worker 7 is assigned to day 6, shift 2\n",
            "Worker 7 is assigned to day 7, shift 2\n",
            "Worker 8 is assigned to day 1, shift 2\n",
            "Worker 8 is assigned to day 2, shift 2\n",
            "Worker 8 is assigned to day 4, shift 2\n",
            "Worker 8 is assigned to day 5, shift 3\n",
            "Worker 8 is assigned to day 7, shift 3\n"
          ]
        }
      ]
    }
  ]
}