{
  "nbformat": 4,
  "nbformat_minor": 0,
  "metadata": {
    "colab": {
      "provenance": [],
      "collapsed_sections": [
        "hL77L3Uei59o"
      ]
    },
    "kernelspec": {
      "name": "python3",
      "display_name": "Python 3"
    },
    "language_info": {
      "name": "python"
    }
  },
  "cells": [
    {
      "cell_type": "markdown",
      "source": [
        "#Set-Up"
      ],
      "metadata": {
        "id": "hL77L3Uei59o"
      }
    },
    {
      "cell_type": "code",
      "source": [
        "#Copy-and-paste the code below to use as \"set-up\" when your optimization model uses Pyomo and Coin-OR solvers.\n",
        "#for reference, see https://jckantor.github.io/ND-Pyomo-Cookbook/notebooks/01.02-Running-Pyomo-on-Google-Colab.html#installing-pyomo-and-solvers\n",
        "\n",
        "%%capture\n",
        "import sys\n",
        "import os\n",
        "\n",
        "if 'google.colab' in sys.modules:\n",
        "    !pip install idaes-pse --pre\n",
        "    !idaes get-extensions --to ./bin\n",
        "    os.environ['PATH'] += ':bin'\n",
        "\n",
        "from pyomo.environ import *"
      ],
      "metadata": {
        "id": "LEAjzJMXkLk1"
      },
      "execution_count": 3,
      "outputs": []
    },
    {
      "cell_type": "markdown",
      "source": [
        "#Lego Challenge Problem Code"
      ],
      "metadata": {
        "id": "sSZzr1WtkMfN"
      }
    },
    {
      "cell_type": "code",
      "source": [
        "from pyomo.environ import *\n",
        "\n",
        "# Initialize the model\n",
        "model = ConcreteModel()\n",
        "\n",
        "# Sets\n",
        "pieces = [\"Flat 2x2\", \"Thick 1x4\", \"Thick 2x4\", \"Flat 1x8\"]  # Piece types\n",
        "objects = [\"Sled\", \"Casket\", \"Bookshelf\", \"Cat Climber\", \"Coffee Table\", \"Moose Head\", \"Balance Beam\", \"Step Stool\"]  # Objects to build\n",
        "\n",
        "# Parameters\n",
        "inventory_available = {\"Flat 2x2\": 15, \"Thick 1x4\": 8, \"Thick 2x4\": 6, \"Flat 1x8\": 7}  # Inventory constraints\n",
        "requirements = {  # Pieces required to build each object\n",
        "    \"Sled\": [2, 0, 1, 2],\n",
        "    \"Casket\": [4, 2, 1, 2],\n",
        "    \"Bookshelf\": [6, 2, 0, 0],\n",
        "    \"Cat Climber\": [2, 0, 1, 1],\n",
        "    \"Coffee Table\": [4, 0, 1, 0],\n",
        "    \"Moose Head\": [2, 0, 1, 1],\n",
        "    \"Balance Beam\": [0, 2, 0, 1],\n",
        "    \"Step Stool\": [2, 0, 1, 0],\n",
        "}\n",
        "profits = {  # Profit for each object\n",
        "    \"Sled\": 150,\n",
        "    \"Casket\": 200,\n",
        "    \"Bookshelf\": 130,\n",
        "    \"Cat Climber\": 100,\n",
        "    \"Coffee Table\": 90,\n",
        "    \"Moose Head\": 80,\n",
        "    \"Balance Beam\": 60,\n",
        "    \"Step Stool\": 40,\n",
        "}\n",
        "\n",
        "# Variables\n",
        "model.x = Var(objects, domain=NonNegativeIntegers)  # Number of each object to build\n",
        "\n",
        "# Objective: Maximize profit\n",
        "model.profit = Objective(expr=sum(model.x[obj] * profits[obj] for obj in objects), sense=maximize)\n",
        "\n",
        "# Constraints\n",
        "# 1. Do not exceed inventory limits for each piece type\n",
        "def inventory_constraint_rule(model, p):\n",
        "    piece_index = pieces.index(p)  # Get the index of the piece type\n",
        "    return sum(model.x[obj] * requirements[obj][piece_index] for obj in objects) <= inventory_available[p]\n",
        "\n",
        "model.inventory_constraints = Constraint(pieces, rule=inventory_constraint_rule)\n",
        "\n",
        "# Solve the model\n",
        "solver = SolverFactory('cbc')  # You can use other solvers like 'glpk' if available\n",
        "results = solver.solve(model)\n",
        "\n",
        "# Display results\n",
        "if (results.solver.status == 'ok') and (results.solver.termination_condition == 'optimal'):\n",
        "    print(\"Optimal Production Plan:\")\n",
        "    for obj in objects:\n",
        "        print(f\"{obj}: {model.x[obj]() if model.x[obj]() else 0}\")\n",
        "    total_profit = sum(model.x[obj]() * profits[obj] for obj in objects)\n",
        "    print(f\"\\nTotal Profit: ${total_profit}\")\n",
        "else:\n",
        "    print(\"Optimization problem is unbounded or infeasible. Check constraints.\")\n"
      ],
      "metadata": {
        "colab": {
          "base_uri": "https://localhost:8080/"
        },
        "id": "4qC7WTszzjAi",
        "outputId": "7397ea57-a1d9-4461-a11a-12bea3d7af1c"
      },
      "execution_count": 5,
      "outputs": [
        {
          "output_type": "stream",
          "name": "stdout",
          "text": [
            "Optimal Production Plan:\n",
            "Sled: 0\n",
            "Casket: 0\n",
            "Bookshelf: 0\n",
            "Cat Climber: 3.0\n",
            "Coffee Table: 2.0\n",
            "Moose Head: 0\n",
            "Balance Beam: 4.0\n",
            "Step Stool: 0\n",
            "\n",
            "Total Profit: $720.0\n"
          ]
        }
      ]
    }
  ]
}