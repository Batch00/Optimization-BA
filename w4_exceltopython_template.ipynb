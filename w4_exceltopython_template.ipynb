{
  "nbformat": 4,
  "nbformat_minor": 0,
  "metadata": {
    "colab": {
      "provenance": []
    },
    "kernelspec": {
      "name": "python3",
      "display_name": "Python 3"
    },
    "language_info": {
      "name": "python"
    }
  },
  "cells": [
    {
      "cell_type": "markdown",
      "source": [
        "Please translate the Excel model to a Python model following strong modeling practices below. You may NOT use ChatGPT, Copilot, or other similar AI tools."
      ],
      "metadata": {
        "id": "OO_ZnC4Z57Wp"
      }
    },
    {
      "cell_type": "code",
      "execution_count": 2,
      "metadata": {
        "id": "krQH_JXO1ueB"
      },
      "outputs": [],
      "source": [
        "# Input Variable\n",
        "\n",
        "variable_unit_cost = [80,80,90,90,100]\n",
        "fixed_cost = [3000,3000,4000,4000,4000]\n",
        "sales_volume = [220,250,230,260,250]\n",
        "price_markup = .70\n",
        "\n",
        "num_years = 5"
      ]
    },
    {
      "cell_type": "code",
      "source": [
        "# Revenue Calculation\n",
        "\n",
        "sales_price = [variable_unit_cost[i] * (1+price_markup) for i in range(num_years)]\n",
        "revenue = [sales_volume[i] * sales_price[i] for i in range(num_years)]\n",
        "print(\"Calculated Revenue per Year: \", revenue)"
      ],
      "metadata": {
        "id": "X1eLpEYjIo8z",
        "outputId": "495c9ac1-8d2a-464f-e2be-9f1e720a7ff7",
        "colab": {
          "base_uri": "https://localhost:8080/"
        }
      },
      "execution_count": 14,
      "outputs": [
        {
          "output_type": "stream",
          "name": "stdout",
          "text": [
            "Calculated Revenue per Year:  [29920.0, 34000.0, 35190.0, 39780.0, 42500.0]\n"
          ]
        }
      ]
    },
    {
      "cell_type": "code",
      "source": [
        "# Total Production Costs Calculation\n",
        "\n",
        "variable_prod_cost = [variable_unit_cost[i] * sales_volume[i] for i in range(num_years)]\n",
        "total_prod_cost = [variable_prod_cost[i] + fixed_cost[i] for i in range(num_years)]\n",
        "print(\"Calculated Total Production Cost Per Year: \", total_prod_cost)"
      ],
      "metadata": {
        "id": "CLYrTelPJRt-",
        "outputId": "858967d9-7cd5-434e-994d-80dbf40a889d",
        "colab": {
          "base_uri": "https://localhost:8080/"
        }
      },
      "execution_count": 15,
      "outputs": [
        {
          "output_type": "stream",
          "name": "stdout",
          "text": [
            "Calculated Total Production Cost Per Year:  [20600, 23000, 24700, 27400, 29000]\n"
          ]
        }
      ]
    },
    {
      "cell_type": "code",
      "source": [
        "# Profit Calculation\n",
        "\n",
        "annual_profit = [revenue[i] - total_prod_cost[i] for i in range(num_years)]\n",
        "five_years_profit = sum(annual_profit)\n",
        "print(\"Calculated 5-Year Total Profit: \", five_years_profit)\n"
      ],
      "metadata": {
        "id": "ZAV1QsTAJpUH",
        "outputId": "9e46c3a8-8e80-43fc-bf25-c1cd6568494d",
        "colab": {
          "base_uri": "https://localhost:8080/"
        }
      },
      "execution_count": 13,
      "outputs": [
        {
          "output_type": "stream",
          "name": "stdout",
          "text": [
            "Calculated 5-Year Total Profit:  56690.0\n"
          ]
        }
      ]
    },
    {
      "cell_type": "code",
      "source": [
        "# Extra: Turn the model into a function\n",
        "\n",
        "variable_unit_cost = [80,80,90,90,100]\n",
        "fixed_cost = [3000,3000,4000,4000,4000]\n",
        "sales_volume = [220,250,230,260,250]\n",
        "price_markup = .70\n",
        "num_years = 5\n",
        "\n",
        "def calculate_profit(variable_unit_cost,fixed_cost,sales_volume,price_markup,num_years):\n",
        "  # Revenue Calculation\n",
        "  sales_price = [variable_unit_cost[i] * (1+price_markup) for i in range(num_years)]\n",
        "  revenue = [sales_volume[i] * sales_price[i] for i in range(num_years)]\n",
        "  print(\"Calculated Revenue per Year: \", revenue)\n",
        "\n",
        "  # Total Production Costs Calculation\n",
        "  variable_prod_cost = [variable_unit_cost[i] * sales_volume[i] for i in range(num_years)]\n",
        "  total_prod_cost = [variable_prod_cost[i] + fixed_cost[i] for i in range(num_years)]\n",
        "  print(\"Calculated Total Production Cost Per Year: \", total_prod_cost)\n",
        "\n",
        "  # Profit Calculation\n",
        "  annual_profit = [revenue[i] - total_prod_cost[i] for i in range(num_years)]\n",
        "  five_years_profit = sum(annual_profit)\n",
        "  print(\"Calculated 5-Year Total Profit: \", five_years_profit)\n",
        "\n",
        "calculate_profit(variable_unit_cost,fixed_cost,sales_volume,price_markup,num_years)"
      ],
      "metadata": {
        "colab": {
          "base_uri": "https://localhost:8080/"
        },
        "id": "_g29TlMcKURd",
        "outputId": "8ebf585e-6210-4005-f85a-240203f4442e"
      },
      "execution_count": 12,
      "outputs": [
        {
          "output_type": "stream",
          "name": "stdout",
          "text": [
            "Calculated Revenue per Year:  [29920.0, 34000.0, 35190.0, 39780.0, 42500.0]\n",
            "Calculated Total Production Cost Per Year:  [20600, 23000, 24700, 27400, 29000]\n",
            "Calculated 5-Year Total Profit:  56690.0\n"
          ]
        }
      ]
    },
    {
      "cell_type": "code",
      "source": [],
      "metadata": {
        "id": "fQ4OGFW6Kmvw"
      },
      "execution_count": 6,
      "outputs": []
    }
  ]
}