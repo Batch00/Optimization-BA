{
  "nbformat": 4,
  "nbformat_minor": 0,
  "metadata": {
    "colab": {
      "provenance": []
    },
    "kernelspec": {
      "name": "python3",
      "display_name": "Python 3"
    },
    "language_info": {
      "name": "python"
    }
  },
  "cells": [
    {
      "cell_type": "markdown",
      "source": [
        "#Practice Template\n",
        "This is just a practice template. Use it to practice saving, editing, downloading, and submitting the .ipynb to Canvas."
      ],
      "metadata": {
        "id": "BxnR-4dZVqWT"
      }
    },
    {
      "cell_type": "code",
      "source": [
        "#write code that solves 4 + 7 below\n"
      ],
      "metadata": {
        "id": "d03m3mU5VhA2"
      },
      "execution_count": null,
      "outputs": []
    }
  ]
}